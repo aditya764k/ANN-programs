{
 "cells": [
  {
   "cell_type": "code",
   "execution_count": null,
   "id": "00f195dd",
   "metadata": {},
   "outputs": [],
   "source": [
    "#student performance predictor\n",
    "\n",
    "\n",
    "import numpy as np\n",
    "import matplotlib.pyplot as plt\n",
    "\n",
    "\n",
    "study_hours = np.array([ 1, 2, 3, 4])\n",
    "exam_scores = np.array([40, 60, 70, 80])\n",
    "\n",
    "\n",
    "def Gradient_descent(x, y, m, b, learn_rate, iteration):\n",
    "    n = len(x)\n",
    "    for i in range(iteration):\n",
    "        y_predict = m * x + b\n",
    "        error = y - y_predict\n",
    "        \n",
    "    \n",
    "        dm = (-2 / n) * np.sum(x * error)\n",
    "        db = (-2 / n) * np.sum(error)\n",
    "        \n",
    "\n",
    "        m = m - learn_rate * dm\n",
    "        b = b - learn_rate * db\n",
    "        \n",
    "    return m, b\n",
    "\n",
    "\n",
    "m = 0.0\n",
    "b = 0.0\n",
    "learn_rate = 0.01\n",
    "iteration = 2000\n",
    "\n",
    "m, b = Gradient_descent(study_hours, exam_scores, m, b, learn_rate, iteration)\n",
    "print(f\"Trained Parameters: m = {m}, b = {b}\")\n",
    "\n",
    "\n",
    "predicted_score = m * study_hours + b\n",
    "\n",
    "plt.scatter(study_hours, exam_scores, color=\"red\", label=\"Actual Data\")\n",
    "plt.plot(study_hours, predicted_score, color=\"purple\", label=\"Best-fit Line\")\n",
    "plt.title(\"Linear Regression with Gradient Descent\")\n",
    "plt.xlabel(\"Study Hours\")\n",
    "plt.ylabel(\"Exam Scores\")\n",
    "plt.legend()\n",
    "plt.show()\n",
    "\n",
    "new_study_hour = 5\n",
    "\n",
    "predicted_score = m * new_study_hour + b\n",
    "predicted_score=min(predicted_score,100)\n",
    "print(f\"Predicted Score for {new_study_hour} hours: {predicted_score}\")\n"
   ]
  }
 ],
 "metadata": {
  "kernelspec": {
   "display_name": "Python 3 (ipykernel)",
   "language": "python",
   "name": "python3"
  },
  "language_info": {
   "codemirror_mode": {
    "name": "ipython",
    "version": 3
   },
   "file_extension": ".py",
   "mimetype": "text/x-python",
   "name": "python",
   "nbconvert_exporter": "python",
   "pygments_lexer": "ipython3",
   "version": "3.11.5"
  }
 },
 "nbformat": 4,
 "nbformat_minor": 5
}
