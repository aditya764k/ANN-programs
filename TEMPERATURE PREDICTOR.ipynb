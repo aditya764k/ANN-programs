{
 "cells": [
  {
   "cell_type": "code",
   "execution_count": null,
   "id": "8acef570",
   "metadata": {},
   "outputs": [],
   "source": [
    "#temprature predictor\n",
    "\n",
    "\n",
    "import numpy as np\n",
    "import matplotlib.pyplot as plt\n",
    "\n",
    "altitude_levels = np.array([0, 5, 20, 35, 40])\n",
    "temp = np.array([15, 11.75, 2, -7.75, -11])\n",
    "\n",
    "def Gradient_descent(x, y, m, b, epoch, learn_rate):\n",
    "    n = len(x)\n",
    "    for i in range(epoch):\n",
    "        y_predicted = m * x + b\n",
    "        error = y - y_predicted\n",
    "        \n",
    "        \n",
    "        dm = (-2 / n) * np.sum(x * error)\n",
    "        db = (-2 / n) * np.sum(error)\n",
    "        \n",
    "    \n",
    "        m = m - learn_rate * dm\n",
    "        b = b - learn_rate * db\n",
    "        \n",
    "    return m, b\n",
    "\n",
    "\n",
    "m = 0\n",
    "b = 0\n",
    "learn_rate = 0.001\n",
    "iteration = 20000\n",
    "\n",
    "\n",
    "m, b = Gradient_descent(altitude_levels, temp, m, b, iteration, learn_rate)\n",
    "print(f\"After training: m = {m}, b = {b}\")\n",
    "\n",
    "\n",
    "predicted_temp = m * altitude_levels + b\n",
    "\n",
    "plt.scatter(altitude_levels, temp, color=\"red\", label=\"Actual Data\")\n",
    "plt.plot(altitude_levels, predicted_temp, color=\"purple\", label=\"Best-fit Line\")\n",
    "plt.title(\"Linear Regression with Gradient Descent\")\n",
    "plt.xlabel(\"Altitude Levels (m)\")\n",
    "plt.ylabel(\"Temperature (°C)\")\n",
    "plt.legend()\n",
    "plt.show()\n",
    "\n",
    "altitude_level = 3\n",
    "predicted_temp = m * altitude_level + b\n",
    "print(f\"Predicted temperature for altitude {altitude_level*100}m: {predicted_temp:.2f}°C\")\n"
   ]
  }
 ],
 "metadata": {
  "kernelspec": {
   "display_name": "Python 3 (ipykernel)",
   "language": "python",
   "name": "python3"
  },
  "language_info": {
   "codemirror_mode": {
    "name": "ipython",
    "version": 3
   },
   "file_extension": ".py",
   "mimetype": "text/x-python",
   "name": "python",
   "nbconvert_exporter": "python",
   "pygments_lexer": "ipython3",
   "version": "3.11.5"
  }
 },
 "nbformat": 4,
 "nbformat_minor": 5
}
